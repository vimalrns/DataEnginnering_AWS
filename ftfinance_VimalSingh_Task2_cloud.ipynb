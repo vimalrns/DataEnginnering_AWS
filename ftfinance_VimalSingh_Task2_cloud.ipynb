{
 "cells": [
  {
   "cell_type": "markdown",
   "id": "6859a32f-c798-4e85-9e13-8afd93f84040",
   "metadata": {},
   "source": [
    "Vimal Kumar Singh"
   ]
  },
  {
   "cell_type": "code",
   "execution_count": 1,
   "id": "e035823e-ae73-4805-b1da-d33516c3a44f",
   "metadata": {
    "execution": {
     "iopub.execute_input": "2023-06-19T12:39:20.667439Z",
     "iopub.status.busy": "2023-06-19T12:39:20.667125Z",
     "iopub.status.idle": "2023-06-19T12:39:56.725681Z",
     "shell.execute_reply": "2023-06-19T12:39:56.724823Z",
     "shell.execute_reply.started": "2023-06-19T12:39:20.667414Z"
    },
    "tags": []
   },
   "outputs": [
    {
     "data": {
      "application/vnd.jupyter.widget-view+json": {
       "model_id": "21daa22651c14ff0978236982b5ad7a8",
       "version_major": 2,
       "version_minor": 0
      },
      "text/plain": [
       "VBox()"
      ]
     },
     "metadata": {},
     "output_type": "display_data"
    },
    {
     "name": "stdout",
     "output_type": "stream",
     "text": [
      "Starting Spark application\n"
     ]
    },
    {
     "data": {
      "text/html": [
       "<table>\n",
       "<tr><th>ID</th><th>YARN Application ID</th><th>Kind</th><th>State</th><th>Spark UI</th><th>Driver log</th><th>User</th><th>Current session?</th></tr><tr><td>0</td><td>application_1687177961092_0001</td><td>pyspark</td><td>idle</td><td><a target=\"_blank\" href=\"http://ip-172-31-15-29.ec2.internal:20888/proxy/application_1687177961092_0001/\" class=\"emr-proxy-link\" emr-resource=\"j-2THZWZV8OW61V\n",
       "\" application-id=\"application_1687177961092_0001\">Link</a></td><td><a target=\"_blank\" href=\"http://ip-172-31-15-29.ec2.internal:8042/node/containerlogs/container_1687177961092_0001_01_000001/livy\" >Link</a></td><td>None</td><td>✔</td></tr></table>"
      ],
      "text/plain": [
       "<IPython.core.display.HTML object>"
      ]
     },
     "metadata": {},
     "output_type": "display_data"
    },
    {
     "data": {
      "application/vnd.jupyter.widget-view+json": {
       "model_id": "",
       "version_major": 2,
       "version_minor": 0
      },
      "text/plain": [
       "FloatProgress(value=0.0, bar_style='info', description='Progress:', layout=Layout(height='25px', width='50%'),…"
      ]
     },
     "metadata": {},
     "output_type": "display_data"
    },
    {
     "name": "stdout",
     "output_type": "stream",
     "text": [
      "SparkSession available as 'spark'.\n"
     ]
    },
    {
     "data": {
      "application/vnd.jupyter.widget-view+json": {
       "model_id": "",
       "version_major": 2,
       "version_minor": 0
      },
      "text/plain": [
       "FloatProgress(value=0.0, bar_style='info', description='Progress:', layout=Layout(height='25px', width='50%'),…"
      ]
     },
     "metadata": {},
     "output_type": "display_data"
    }
   ],
   "source": [
    "import sys\n",
    "from datetime import datetime\n",
    "from pyspark.sql import SparkSession\n",
    "from pyspark.sql.functions import *"
   ]
  },
  {
   "cell_type": "code",
   "execution_count": 2,
   "id": "383a20f4-c5c3-4f6c-a5f2-dba8da1f2a51",
   "metadata": {
    "execution": {
     "iopub.execute_input": "2023-06-19T12:40:05.121547Z",
     "iopub.status.busy": "2023-06-19T12:40:05.121237Z",
     "iopub.status.idle": "2023-06-19T12:40:05.186206Z",
     "shell.execute_reply": "2023-06-19T12:40:05.185265Z",
     "shell.execute_reply.started": "2023-06-19T12:40:05.121514Z"
    }
   },
   "outputs": [
    {
     "data": {
      "application/vnd.jupyter.widget-view+json": {
       "model_id": "053bebd70c9644c38f8739946c7da97c",
       "version_major": 2,
       "version_minor": 0
      },
      "text/plain": [
       "VBox()"
      ]
     },
     "metadata": {},
     "output_type": "display_data"
    },
    {
     "data": {
      "application/vnd.jupyter.widget-view+json": {
       "model_id": "",
       "version_major": 2,
       "version_minor": 0
      },
      "text/plain": [
       "FloatProgress(value=0.0, bar_style='info', description='Progress:', layout=Layout(height='25px', width='50%'),…"
      ]
     },
     "metadata": {},
     "output_type": "display_data"
    }
   ],
   "source": [
    "input_path = \"s3://ftfinanace/LoanData.csv\"\n",
    "output_path = \"s3://ftfinanace/output/\""
   ]
  },
  {
   "cell_type": "code",
   "execution_count": 3,
   "id": "65d1b8e7-89ac-4e76-8fe0-06715860acc2",
   "metadata": {
    "execution": {
     "iopub.execute_input": "2023-06-19T12:40:22.902329Z",
     "iopub.status.busy": "2023-06-19T12:40:22.902024Z",
     "iopub.status.idle": "2023-06-19T12:40:34.503144Z",
     "shell.execute_reply": "2023-06-19T12:40:34.502386Z",
     "shell.execute_reply.started": "2023-06-19T12:40:22.902303Z"
    }
   },
   "outputs": [
    {
     "data": {
      "application/vnd.jupyter.widget-view+json": {
       "model_id": "d5a1ff590d56428a96843a58ee9f0bec",
       "version_major": 2,
       "version_minor": 0
      },
      "text/plain": [
       "VBox()"
      ]
     },
     "metadata": {},
     "output_type": "display_data"
    },
    {
     "data": {
      "application/vnd.jupyter.widget-view+json": {
       "model_id": "",
       "version_major": 2,
       "version_minor": 0
      },
      "text/plain": [
       "FloatProgress(value=0.0, bar_style='info', description='Progress:', layout=Layout(height='25px', width='50%'),…"
      ]
     },
     "metadata": {},
     "output_type": "display_data"
    }
   ],
   "source": [
    "\n",
    "ft_finanace = spark.read.option(\"inferSchema\", \"true\").option(\"header\", \"true\").csv(input_path)"
   ]
  },
  {
   "cell_type": "code",
   "execution_count": 4,
   "id": "5b2ae38e-fab3-44cc-8ea6-ae3d05d97a05",
   "metadata": {
    "execution": {
     "iopub.execute_input": "2023-06-19T12:40:56.307514Z",
     "iopub.status.busy": "2023-06-19T12:40:56.307193Z",
     "iopub.status.idle": "2023-06-19T12:40:57.600534Z",
     "shell.execute_reply": "2023-06-19T12:40:57.599660Z",
     "shell.execute_reply.started": "2023-06-19T12:40:56.307487Z"
    }
   },
   "outputs": [
    {
     "data": {
      "application/vnd.jupyter.widget-view+json": {
       "model_id": "a7de1a82170842d2a4482b8fce572a1e",
       "version_major": 2,
       "version_minor": 0
      },
      "text/plain": [
       "VBox()"
      ]
     },
     "metadata": {},
     "output_type": "display_data"
    },
    {
     "data": {
      "application/vnd.jupyter.widget-view+json": {
       "model_id": "",
       "version_major": 2,
       "version_minor": 0
      },
      "text/plain": [
       "FloatProgress(value=0.0, bar_style='info', description='Progress:', layout=Layout(height='25px', width='50%'),…"
      ]
     },
     "metadata": {},
     "output_type": "display_data"
    },
    {
     "name": "stdout",
     "output_type": "stream",
     "text": [
      "23315"
     ]
    }
   ],
   "source": [
    "ft_finanace.count()"
   ]
  },
  {
   "cell_type": "code",
   "execution_count": 5,
   "id": "5e683564-ac1a-42dd-b465-400ad4c97ecd",
   "metadata": {
    "execution": {
     "iopub.execute_input": "2023-06-19T12:41:05.701272Z",
     "iopub.status.busy": "2023-06-19T12:41:05.700934Z",
     "iopub.status.idle": "2023-06-19T12:41:06.483069Z",
     "shell.execute_reply": "2023-06-19T12:41:06.482192Z",
     "shell.execute_reply.started": "2023-06-19T12:41:05.701246Z"
    }
   },
   "outputs": [
    {
     "data": {
      "application/vnd.jupyter.widget-view+json": {
       "model_id": "5274eb4093b14dd08d155af4b221cb91",
       "version_major": 2,
       "version_minor": 0
      },
      "text/plain": [
       "VBox()"
      ]
     },
     "metadata": {},
     "output_type": "display_data"
    },
    {
     "data": {
      "application/vnd.jupyter.widget-view+json": {
       "model_id": "",
       "version_major": 2,
       "version_minor": 0
      },
      "text/plain": [
       "FloatProgress(value=0.0, bar_style='info', description='Progress:', layout=Layout(height='25px', width='50%'),…"
      ]
     },
     "metadata": {},
     "output_type": "display_data"
    },
    {
     "name": "stdout",
     "output_type": "stream",
     "text": [
      "+----------------+----------+-----+---------+-------------+---------------+-------------+-----------------+-----------+--------+------------+------------+-------------+-----------------+-----------------------------------+---------------------+---------------+------------+\n",
      "|disbursed_amount|asset_cost|  ltv|branch_id|Date_of_Birth|Employment_Type|DisbursalDate|MobileNo_Avl_Flag|Aadhar_flag|PAN_flag|VoterID_flag|Driving_flag|Passport_flag|PERFORM_CNS_SCORE|DELINQUENT_ACCTS_IN_LAST_SIX_MONTHS|CREDIT_HISTORY_LENGTH|NO_OF_INQUIRIES|loan_default|\n",
      "+----------------+----------+-----+---------+-------------+---------------+-------------+-----------------+-----------+--------+------------+------------+-------------+-----------------+-----------------------------------+---------------------+---------------+------------+\n",
      "|           36439|     65850|56.19|       64|     14-06-90|  Self employed|     28-09-18|                1|          1|       0|           0|           0|            0|                0|                                  0|            0yrs 0mon|              0|           0|\n",
      "|           48749|     69303|72.15|       67|     1/1/1991|       Salaried|    10/9/2018|                1|          1|       0|           0|           0|            0|              783|                                  0|            2yrs 6mon|              0|           0|\n",
      "|           55348|     66340| 85.0|        2|     16-08-93|  Self employed|     31-08-18|                1|          1|       0|           0|           0|            0|                0|                                  0|            0yrs 0mon|              0|           1|\n",
      "|           48849|     64133|77.96|      217|     1/1/1989|  Self employed|     13-10-18|                1|          1|       0|           0|           0|            0|                0|                                  0|            0yrs 0mon|              0|           0|\n",
      "|           40394|     59386|70.72|       74|     31-12-74|  Self employed|     14-09-18|                1|          1|       0|           0|           0|            0|               14|                                  1|            3yrs 1mon|              1|           0|\n",
      "|           51803|     67466| 79.3|      162|     23-11-64|  Self employed|     17-08-18|                1|          1|       0|           0|           0|            0|              300|                                  0|           15yrs 2mon|              0|           0|\n",
      "|           61947|    109094|58.21|      251|    1/10/1989|  Self employed|     16-08-18|                1|          0|       0|           1|           0|            0|              737|                                  0|           1yrs 10mon|              0|           0|\n",
      "|           51301|     61815| 85.0|       67|     1/1/1995|       Salaried|     26-08-18|                1|          1|       0|           0|           0|            0|                0|                                  0|            0yrs 0mon|              0|           0|\n",
      "|           65882|     80461|84.51|      255|     15-06-94|  Self employed|     15-10-18|                1|          1|       0|           0|           0|            0|                0|                                  0|            0yrs 0mon|              0|           0|\n",
      "|           34639|     69717|50.49|       34|     23-11-82|  Self employed|     26-10-18|                1|          1|       0|           0|           0|            0|              300|                                  0|           3yrs 10mon|              0|           1|\n",
      "|           51996|     63051| 85.0|      147|     1/1/1984|       Salaried|     3/9/2018|                1|          1|       0|           0|           0|            0|                0|                                  0|            0yrs 0mon|              0|           0|\n",
      "|           64269|     85632|77.07|      146|     15-02-90|       Salaried|     24-08-18|                1|          1|       0|           0|           0|            0|                0|                                  0|            0yrs 0mon|              0|           0|\n",
      "|           68377|     90512|79.55|       20|    5/12/1975|  Self employed|     28-08-18|                1|          1|       0|           0|           0|            0|              654|                                  1|            2yrs 0mon|              1|           0|\n",
      "|           61256|     73000|84.99|        2|    11/9/1995|       Salaried|     21-09-18|                1|          1|       0|           0|           0|            0|                0|                                  0|            0yrs 0mon|              0|           0|\n",
      "|           46949|     64600|74.92|       67|     29-10-75|  Self employed|     20-08-18|                1|          1|       0|           0|           0|            0|              524|                                  0|            0yrs 0mon|              0|           0|\n",
      "|           56333|     80271| 73.5|        7|     28-02-84|  Self employed|     26-10-18|                1|          1|       0|           0|           0|            0|              653|                                  0|           0yrs 11mon|              0|           0|\n",
      "|           73717|     94315|79.41|      165|    2/11/1975|       Salaried|     30-09-18|                1|          1|       0|           0|           0|            0|               16|                                  0|            1yrs 1mon|              0|           0|\n",
      "|           54373|     73891|77.14|      152|     21-10-90|  Self employed|     30-09-18|                1|          1|       0|           0|           0|            0|                0|                                  0|            0yrs 0mon|              0|           0|\n",
      "|           72817|     82820|89.35|        2|   11/10/1994|       Salaried|     31-10-18|                1|          1|       0|           0|           0|            0|              753|                                  1|            1yrs 1mon|              0|           0|\n",
      "|           78151|    107074|74.25|      135|     5/6/1987|  Self employed|     25-10-18|                1|          1|       1|           1|           0|            0|                0|                                  0|            0yrs 0mon|              0|           1|\n",
      "+----------------+----------+-----+---------+-------------+---------------+-------------+-----------------+-----------+--------+------------+------------+-------------+-----------------+-----------------------------------+---------------------+---------------+------------+\n",
      "only showing top 20 rows"
     ]
    }
   ],
   "source": [
    "ft_finanace.show()"
   ]
  },
  {
   "cell_type": "code",
   "execution_count": 6,
   "id": "af333213-bb18-42ad-8e2b-c656b374e275",
   "metadata": {
    "execution": {
     "iopub.execute_input": "2023-06-19T12:46:00.605859Z",
     "iopub.status.busy": "2023-06-19T12:46:00.605523Z",
     "iopub.status.idle": "2023-06-19T12:46:00.669242Z",
     "shell.execute_reply": "2023-06-19T12:46:00.668473Z",
     "shell.execute_reply.started": "2023-06-19T12:46:00.605834Z"
    }
   },
   "outputs": [
    {
     "data": {
      "application/vnd.jupyter.widget-view+json": {
       "model_id": "3d21d0ef1a314e9ab1c9818222dbff43",
       "version_major": 2,
       "version_minor": 0
      },
      "text/plain": [
       "VBox()"
      ]
     },
     "metadata": {},
     "output_type": "display_data"
    },
    {
     "data": {
      "application/vnd.jupyter.widget-view+json": {
       "model_id": "",
       "version_major": 2,
       "version_minor": 0
      },
      "text/plain": [
       "FloatProgress(value=0.0, bar_style='info', description='Progress:', layout=Layout(height='25px', width='50%'),…"
      ]
     },
     "metadata": {},
     "output_type": "display_data"
    },
    {
     "name": "stdout",
     "output_type": "stream",
     "text": [
      "root\n",
      " |-- disbursed_amount: integer (nullable = true)\n",
      " |-- asset_cost: integer (nullable = true)\n",
      " |-- ltv: double (nullable = true)\n",
      " |-- branch_id: integer (nullable = true)\n",
      " |-- Date_of_Birth: string (nullable = true)\n",
      " |-- Employment_Type: string (nullable = true)\n",
      " |-- DisbursalDate: string (nullable = true)\n",
      " |-- MobileNo_Avl_Flag: integer (nullable = true)\n",
      " |-- Aadhar_flag: integer (nullable = true)\n",
      " |-- PAN_flag: integer (nullable = true)\n",
      " |-- VoterID_flag: integer (nullable = true)\n",
      " |-- Driving_flag: integer (nullable = true)\n",
      " |-- Passport_flag: integer (nullable = true)\n",
      " |-- PERFORM_CNS_SCORE: integer (nullable = true)\n",
      " |-- DELINQUENT_ACCTS_IN_LAST_SIX_MONTHS: integer (nullable = true)\n",
      " |-- CREDIT_HISTORY_LENGTH: string (nullable = true)\n",
      " |-- NO_OF_INQUIRIES: integer (nullable = true)\n",
      " |-- loan_default: integer (nullable = true)"
     ]
    }
   ],
   "source": [
    "ft_finanace.printSchema()"
   ]
  },
  {
   "cell_type": "code",
   "execution_count": 7,
   "id": "66dc8372-a7ca-4546-a5f8-9477a5d8057b",
   "metadata": {
    "execution": {
     "iopub.execute_input": "2023-06-19T12:48:33.336024Z",
     "iopub.status.busy": "2023-06-19T12:48:33.335718Z",
     "iopub.status.idle": "2023-06-19T12:48:33.598274Z",
     "shell.execute_reply": "2023-06-19T12:48:33.597123Z",
     "shell.execute_reply.started": "2023-06-19T12:48:33.335999Z"
    }
   },
   "outputs": [
    {
     "data": {
      "application/vnd.jupyter.widget-view+json": {
       "model_id": "2360af046ce646e4b3904e38a9d3dfe4",
       "version_major": 2,
       "version_minor": 0
      },
      "text/plain": [
       "VBox()"
      ]
     },
     "metadata": {},
     "output_type": "display_data"
    },
    {
     "data": {
      "application/vnd.jupyter.widget-view+json": {
       "model_id": "",
       "version_major": 2,
       "version_minor": 0
      },
      "text/plain": [
       "FloatProgress(value=0.0, bar_style='info', description='Progress:', layout=Layout(height='25px', width='50%'),…"
      ]
     },
     "metadata": {},
     "output_type": "display_data"
    }
   ],
   "source": [
    "updatedftdata = ft_finanace.withColumn(\"current_date\", lit(datetime.now()))\n"
   ]
  },
  {
   "cell_type": "code",
   "execution_count": 8,
   "id": "e70e20cb-71bc-4650-944f-d0cdc04276ca",
   "metadata": {
    "execution": {
     "iopub.execute_input": "2023-06-19T12:48:59.253334Z",
     "iopub.status.busy": "2023-06-19T12:48:59.253020Z",
     "iopub.status.idle": "2023-06-19T12:48:59.331243Z",
     "shell.execute_reply": "2023-06-19T12:48:59.330165Z",
     "shell.execute_reply.started": "2023-06-19T12:48:59.253308Z"
    }
   },
   "outputs": [
    {
     "data": {
      "application/vnd.jupyter.widget-view+json": {
       "model_id": "7f9d57f016624e648f99a53f2c853b8e",
       "version_major": 2,
       "version_minor": 0
      },
      "text/plain": [
       "VBox()"
      ]
     },
     "metadata": {},
     "output_type": "display_data"
    },
    {
     "data": {
      "application/vnd.jupyter.widget-view+json": {
       "model_id": "",
       "version_major": 2,
       "version_minor": 0
      },
      "text/plain": [
       "FloatProgress(value=0.0, bar_style='info', description='Progress:', layout=Layout(height='25px', width='50%'),…"
      ]
     },
     "metadata": {},
     "output_type": "display_data"
    },
    {
     "name": "stdout",
     "output_type": "stream",
     "text": [
      "root\n",
      " |-- disbursed_amount: integer (nullable = true)\n",
      " |-- asset_cost: integer (nullable = true)\n",
      " |-- ltv: double (nullable = true)\n",
      " |-- branch_id: integer (nullable = true)\n",
      " |-- Date_of_Birth: string (nullable = true)\n",
      " |-- Employment_Type: string (nullable = true)\n",
      " |-- DisbursalDate: string (nullable = true)\n",
      " |-- MobileNo_Avl_Flag: integer (nullable = true)\n",
      " |-- Aadhar_flag: integer (nullable = true)\n",
      " |-- PAN_flag: integer (nullable = true)\n",
      " |-- VoterID_flag: integer (nullable = true)\n",
      " |-- Driving_flag: integer (nullable = true)\n",
      " |-- Passport_flag: integer (nullable = true)\n",
      " |-- PERFORM_CNS_SCORE: integer (nullable = true)\n",
      " |-- DELINQUENT_ACCTS_IN_LAST_SIX_MONTHS: integer (nullable = true)\n",
      " |-- CREDIT_HISTORY_LENGTH: string (nullable = true)\n",
      " |-- NO_OF_INQUIRIES: integer (nullable = true)\n",
      " |-- loan_default: integer (nullable = true)\n",
      " |-- current_date: timestamp (nullable = false)"
     ]
    }
   ],
   "source": [
    "updatedftdata.printSchema()"
   ]
  },
  {
   "cell_type": "code",
   "execution_count": 9,
   "id": "21e903c0-8aee-49ae-9a75-a33340cb941a",
   "metadata": {
    "execution": {
     "iopub.execute_input": "2023-06-19T12:52:55.705757Z",
     "iopub.status.busy": "2023-06-19T12:52:55.705431Z",
     "iopub.status.idle": "2023-06-19T12:53:07.037792Z",
     "shell.execute_reply": "2023-06-19T12:53:07.036993Z",
     "shell.execute_reply.started": "2023-06-19T12:52:55.705730Z"
    }
   },
   "outputs": [
    {
     "data": {
      "application/vnd.jupyter.widget-view+json": {
       "model_id": "8691b013caff45ccb8313016a60100a8",
       "version_major": 2,
       "version_minor": 0
      },
      "text/plain": [
       "VBox()"
      ]
     },
     "metadata": {},
     "output_type": "display_data"
    },
    {
     "data": {
      "application/vnd.jupyter.widget-view+json": {
       "model_id": "",
       "version_major": 2,
       "version_minor": 0
      },
      "text/plain": [
       "FloatProgress(value=0.0, bar_style='info', description='Progress:', layout=Layout(height='25px', width='50%'),…"
      ]
     },
     "metadata": {},
     "output_type": "display_data"
    },
    {
     "name": "stdout",
     "output_type": "stream",
     "text": [
      "+----------------+----------+-----+---------+-------------+---------------+-------------+-----------------+-----------+--------+------------+------------+-------------+-----------------+-----------------------------------+---------------------+---------------+------------+\n",
      "|disbursed_amount|asset_cost|  ltv|branch_id|Date_of_Birth|Employment_Type|DisbursalDate|MobileNo_Avl_Flag|Aadhar_flag|PAN_flag|VoterID_flag|Driving_flag|Passport_flag|PERFORM_CNS_SCORE|DELINQUENT_ACCTS_IN_LAST_SIX_MONTHS|CREDIT_HISTORY_LENGTH|NO_OF_INQUIRIES|loan_default|\n",
      "+----------------+----------+-----+---------+-------------+---------------+-------------+-----------------+-----------+--------+------------+------------+-------------+-----------------+-----------------------------------+---------------------+---------------+------------+\n",
      "|           36439|     65850|56.19|       64|     14-06-90|  Self employed|     28-09-18|                1|          1|       0|           0|           0|            0|                0|                                  0|            0yrs 0mon|              0|           0|\n",
      "|           48749|     69303|72.15|       67|     1/1/1991|       Salaried|    10/9/2018|                1|          1|       0|           0|           0|            0|              783|                                  0|            2yrs 6mon|              0|           0|\n",
      "|           55348|     66340| 85.0|        2|     16-08-93|  Self employed|     31-08-18|                1|          1|       0|           0|           0|            0|                0|                                  0|            0yrs 0mon|              0|           1|\n",
      "|           48849|     64133|77.96|      217|     1/1/1989|  Self employed|     13-10-18|                1|          1|       0|           0|           0|            0|                0|                                  0|            0yrs 0mon|              0|           0|\n",
      "|           40394|     59386|70.72|       74|     31-12-74|  Self employed|     14-09-18|                1|          1|       0|           0|           0|            0|               14|                                  1|            3yrs 1mon|              1|           0|\n",
      "|           51803|     67466| 79.3|      162|     23-11-64|  Self employed|     17-08-18|                1|          1|       0|           0|           0|            0|              300|                                  0|           15yrs 2mon|              0|           0|\n",
      "|           61947|    109094|58.21|      251|    1/10/1989|  Self employed|     16-08-18|                1|          0|       0|           1|           0|            0|              737|                                  0|           1yrs 10mon|              0|           0|\n",
      "|           51301|     61815| 85.0|       67|     1/1/1995|       Salaried|     26-08-18|                1|          1|       0|           0|           0|            0|                0|                                  0|            0yrs 0mon|              0|           0|\n",
      "|           65882|     80461|84.51|      255|     15-06-94|  Self employed|     15-10-18|                1|          1|       0|           0|           0|            0|                0|                                  0|            0yrs 0mon|              0|           0|\n",
      "|           34639|     69717|50.49|       34|     23-11-82|  Self employed|     26-10-18|                1|          1|       0|           0|           0|            0|              300|                                  0|           3yrs 10mon|              0|           1|\n",
      "|           51996|     63051| 85.0|      147|     1/1/1984|       Salaried|     3/9/2018|                1|          1|       0|           0|           0|            0|                0|                                  0|            0yrs 0mon|              0|           0|\n",
      "|           64269|     85632|77.07|      146|     15-02-90|       Salaried|     24-08-18|                1|          1|       0|           0|           0|            0|                0|                                  0|            0yrs 0mon|              0|           0|\n",
      "|           68377|     90512|79.55|       20|    5/12/1975|  Self employed|     28-08-18|                1|          1|       0|           0|           0|            0|              654|                                  1|            2yrs 0mon|              1|           0|\n",
      "|           61256|     73000|84.99|        2|    11/9/1995|       Salaried|     21-09-18|                1|          1|       0|           0|           0|            0|                0|                                  0|            0yrs 0mon|              0|           0|\n",
      "|           46949|     64600|74.92|       67|     29-10-75|  Self employed|     20-08-18|                1|          1|       0|           0|           0|            0|              524|                                  0|            0yrs 0mon|              0|           0|\n",
      "|           56333|     80271| 73.5|        7|     28-02-84|  Self employed|     26-10-18|                1|          1|       0|           0|           0|            0|              653|                                  0|           0yrs 11mon|              0|           0|\n",
      "|           73717|     94315|79.41|      165|    2/11/1975|       Salaried|     30-09-18|                1|          1|       0|           0|           0|            0|               16|                                  0|            1yrs 1mon|              0|           0|\n",
      "|           54373|     73891|77.14|      152|     21-10-90|  Self employed|     30-09-18|                1|          1|       0|           0|           0|            0|                0|                                  0|            0yrs 0mon|              0|           0|\n",
      "|           72817|     82820|89.35|        2|   11/10/1994|       Salaried|     31-10-18|                1|          1|       0|           0|           0|            0|              753|                                  1|            1yrs 1mon|              0|           0|\n",
      "|           78151|    107074|74.25|      135|     5/6/1987|  Self employed|     25-10-18|                1|          1|       1|           1|           0|            0|                0|                                  0|            0yrs 0mon|              0|           1|\n",
      "+----------------+----------+-----+---------+-------------+---------------+-------------+-----------------+-----------+--------+------------+------------+-------------+-----------------+-----------------------------------+---------------------+---------------+------------+\n",
      "only showing top 20 rows"
     ]
    }
   ],
   "source": [
    "df = (spark.read.format('csv').option('header', 'True').option(\n",
    "    \"inferSchema\", \"true\").load('s3://ftfinanace/LoanData.csv'))\n",
    "\n",
    "df.show()\n"
   ]
  },
  {
   "cell_type": "code",
   "execution_count": 10,
   "id": "0ed20dd5-4dd0-4fc0-82a2-110b384640a5",
   "metadata": {
    "execution": {
     "iopub.execute_input": "2023-06-19T12:56:13.248159Z",
     "iopub.status.busy": "2023-06-19T12:56:13.247824Z",
     "iopub.status.idle": "2023-06-19T12:56:13.516545Z",
     "shell.execute_reply": "2023-06-19T12:56:13.515583Z",
     "shell.execute_reply.started": "2023-06-19T12:56:13.248131Z"
    }
   },
   "outputs": [
    {
     "data": {
      "application/vnd.jupyter.widget-view+json": {
       "model_id": "6255613e23eb462a9a99822ea308fdd4",
       "version_major": 2,
       "version_minor": 0
      },
      "text/plain": [
       "VBox()"
      ]
     },
     "metadata": {},
     "output_type": "display_data"
    },
    {
     "data": {
      "application/vnd.jupyter.widget-view+json": {
       "model_id": "",
       "version_major": 2,
       "version_minor": 0
      },
      "text/plain": [
       "FloatProgress(value=0.0, bar_style='info', description='Progress:', layout=Layout(height='25px', width='50%'),…"
      ]
     },
     "metadata": {},
     "output_type": "display_data"
    }
   ],
   "source": [
    "# Create View\n",
    "df.createOrReplaceTempView('df_ftfinanace_View')"
   ]
  },
  {
   "cell_type": "code",
   "execution_count": 11,
   "id": "10627eff-448f-4514-943e-4c6bc5e6b364",
   "metadata": {
    "execution": {
     "iopub.execute_input": "2023-06-19T12:56:49.164115Z",
     "iopub.status.busy": "2023-06-19T12:56:49.163798Z",
     "iopub.status.idle": "2023-06-19T12:56:58.501901Z",
     "shell.execute_reply": "2023-06-19T12:56:58.500934Z",
     "shell.execute_reply.started": "2023-06-19T12:56:49.164088Z"
    }
   },
   "outputs": [
    {
     "data": {
      "application/vnd.jupyter.widget-view+json": {
       "model_id": "7d78159188604022b4d76a8e1cd23aad",
       "version_major": 2,
       "version_minor": 0
      },
      "text/plain": [
       "VBox()"
      ]
     },
     "metadata": {},
     "output_type": "display_data"
    },
    {
     "data": {
      "application/vnd.jupyter.widget-view+json": {
       "model_id": "",
       "version_major": 2,
       "version_minor": 0
      },
      "text/plain": [
       "FloatProgress(value=0.0, bar_style='info', description='Progress:', layout=Layout(height='25px', width='50%'),…"
      ]
     },
     "metadata": {},
     "output_type": "display_data"
    },
    {
     "name": "stdout",
     "output_type": "stream",
     "text": [
      "+----------------+----------+-----+---------+-------------+---------------+-------------+-----------------+-----------+--------+------------+------------+-------------+-----------------+-----------------------------------+---------------------+---------------+------------+\n",
      "|disbursed_amount|asset_cost|  ltv|branch_id|Date_of_Birth|Employment_Type|DisbursalDate|MobileNo_Avl_Flag|Aadhar_flag|PAN_flag|VoterID_flag|Driving_flag|Passport_flag|PERFORM_CNS_SCORE|DELINQUENT_ACCTS_IN_LAST_SIX_MONTHS|CREDIT_HISTORY_LENGTH|NO_OF_INQUIRIES|loan_default|\n",
      "+----------------+----------+-----+---------+-------------+---------------+-------------+-----------------+-----------+--------+------------+------------+-------------+-----------------+-----------------------------------+---------------------+---------------+------------+\n",
      "|           36439|     65850|56.19|       64|     14-06-90|  Self employed|     28-09-18|                1|          1|       0|           0|           0|            0|                0|                                  0|            0yrs 0mon|              0|           0|\n",
      "|           48749|     69303|72.15|       67|     1/1/1991|       Salaried|    10/9/2018|                1|          1|       0|           0|           0|            0|              783|                                  0|            2yrs 6mon|              0|           0|\n",
      "|           55348|     66340| 85.0|        2|     16-08-93|  Self employed|     31-08-18|                1|          1|       0|           0|           0|            0|                0|                                  0|            0yrs 0mon|              0|           1|\n",
      "|           48849|     64133|77.96|      217|     1/1/1989|  Self employed|     13-10-18|                1|          1|       0|           0|           0|            0|                0|                                  0|            0yrs 0mon|              0|           0|\n",
      "|           40394|     59386|70.72|       74|     31-12-74|  Self employed|     14-09-18|                1|          1|       0|           0|           0|            0|               14|                                  1|            3yrs 1mon|              1|           0|\n",
      "+----------------+----------+-----+---------+-------------+---------------+-------------+-----------------+-----------+--------+------------+------------+-------------+-----------------+-----------------------------------+---------------------+---------------+------------+\n",
      "only showing top 5 rows"
     ]
    }
   ],
   "source": [
    "spark.sql(\"select * from df_ftfinanace_View\").show(5)"
   ]
  },
  {
   "cell_type": "code",
   "execution_count": 13,
   "id": "6652557c-799b-4e18-810c-56367bdb2a36",
   "metadata": {
    "execution": {
     "iopub.execute_input": "2023-06-19T13:06:29.610437Z",
     "iopub.status.busy": "2023-06-19T13:06:29.610098Z",
     "iopub.status.idle": "2023-06-19T13:06:38.933745Z",
     "shell.execute_reply": "2023-06-19T13:06:38.932868Z",
     "shell.execute_reply.started": "2023-06-19T13:06:29.610411Z"
    },
    "tags": []
   },
   "outputs": [
    {
     "data": {
      "application/vnd.jupyter.widget-view+json": {
       "model_id": "dd034a95f9b54f0e95d5ed18ab80341c",
       "version_major": 2,
       "version_minor": 0
      },
      "text/plain": [
       "VBox()"
      ]
     },
     "metadata": {},
     "output_type": "display_data"
    },
    {
     "data": {
      "application/vnd.jupyter.widget-view+json": {
       "model_id": "",
       "version_major": 2,
       "version_minor": 0
      },
      "text/plain": [
       "FloatProgress(value=0.0, bar_style='info', description='Progress:', layout=Layout(height='25px', width='50%'),…"
      ]
     },
     "metadata": {},
     "output_type": "display_data"
    }
   ],
   "source": [
    "df.repartition(2).write.mode(\"overwrite\").save(\n",
    "    \"s3://ftfinanace/output/sales_final_parquet\")"
   ]
  },
  {
   "cell_type": "code",
   "execution_count": 14,
   "id": "ac047d45-4d03-464b-a946-998f11c4f427",
   "metadata": {
    "execution": {
     "iopub.execute_input": "2023-06-19T13:12:03.749740Z",
     "iopub.status.busy": "2023-06-19T13:12:03.749419Z",
     "iopub.status.idle": "2023-06-19T13:12:11.079540Z",
     "shell.execute_reply": "2023-06-19T13:12:11.078644Z",
     "shell.execute_reply.started": "2023-06-19T13:12:03.749713Z"
    }
   },
   "outputs": [
    {
     "data": {
      "application/vnd.jupyter.widget-view+json": {
       "model_id": "e4b51c8edb464b6ba0d348ccad868858",
       "version_major": 2,
       "version_minor": 0
      },
      "text/plain": [
       "VBox()"
      ]
     },
     "metadata": {},
     "output_type": "display_data"
    },
    {
     "data": {
      "application/vnd.jupyter.widget-view+json": {
       "model_id": "",
       "version_major": 2,
       "version_minor": 0
      },
      "text/plain": [
       "FloatProgress(value=0.0, bar_style='info', description='Progress:', layout=Layout(height='25px', width='50%'),…"
      ]
     },
     "metadata": {},
     "output_type": "display_data"
    },
    {
     "name": "stdout",
     "output_type": "stream",
     "text": [
      "+---------+\n",
      "|branch_id|\n",
      "+---------+\n",
      "|       64|\n",
      "|       67|\n",
      "|        2|\n",
      "|      217|\n",
      "|       74|\n",
      "|      162|\n",
      "|      251|\n",
      "|       67|\n",
      "|      255|\n",
      "|       34|\n",
      "|      147|\n",
      "|      146|\n",
      "|       20|\n",
      "|        2|\n",
      "|       67|\n",
      "|        7|\n",
      "|      165|\n",
      "|      152|\n",
      "|        2|\n",
      "|      135|\n",
      "+---------+\n",
      "only showing top 20 rows"
     ]
    }
   ],
   "source": [
    "df.select('branch_id').show()\n"
   ]
  },
  {
   "cell_type": "code",
   "execution_count": null,
   "id": "9020b7d7-9a55-4ea3-a04a-df3074d50f17",
   "metadata": {},
   "outputs": [],
   "source": []
  }
 ],
 "metadata": {
  "kernelspec": {
   "display_name": "PySpark",
   "language": "python",
   "name": "pysparkkernel"
  },
  "language_info": {
   "codemirror_mode": {
    "name": "python",
    "version": 3
   },
   "file_extension": ".py",
   "mimetype": "text/x-python",
   "name": "pyspark",
   "pygments_lexer": "python3"
  }
 },
 "nbformat": 4,
 "nbformat_minor": 5
}
